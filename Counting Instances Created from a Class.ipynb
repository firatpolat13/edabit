{
 "cells": [
  {
   "cell_type": "markdown",
   "metadata": {},
   "source": [
    "Write a Composer class that has three instance variables:\n",
    "\n",
    "name\n",
    "dob\n",
    "country\n",
    "\n",
    "Add an additional class variable .count which counts the total number of instances created. Examples\n",
    "Just finished writing the Composer class\n",
    "\n",
    "Composer.count ➞ 0\n",
    "\n",
    "c1 = Composer(\"Ludvig van Beethoven\", 1770, \"Germany\") Composer.count ➞ 1\n",
    "\n",
    "c2 = Composer(\"Wolfgang Amadeus Mozart\", 1756, \"Austria\") c3 = Composer(\"Johannes Brahms\", 1833, \"Germany\") Composer.count ➞ 3\n",
    "\n",
    "Notes\n",
    "\n",
    "N/A"
   ]
  },
  {
   "cell_type": "code",
   "execution_count": 1,
   "metadata": {},
   "outputs": [],
   "source": [
    "class Composer:\n",
    "    count = 0\n",
    "    def __init__(self, name, dob, country):\n",
    "        self.name = name\n",
    "        self.dob = dob\n",
    "        self.country = country\n",
    "        Composer.count += 1"
   ]
  },
  {
   "cell_type": "code",
   "execution_count": 2,
   "metadata": {},
   "outputs": [],
   "source": [
    "c1 = Composer(\"Ludvig van Beethoven\", 1770, \"Germany\")"
   ]
  },
  {
   "cell_type": "code",
   "execution_count": 3,
   "metadata": {},
   "outputs": [
    {
     "data": {
      "text/plain": [
       "1"
      ]
     },
     "execution_count": 3,
     "metadata": {},
     "output_type": "execute_result"
    }
   ],
   "source": [
    "Composer.count"
   ]
  },
  {
   "cell_type": "code",
   "execution_count": 4,
   "metadata": {},
   "outputs": [],
   "source": [
    "c2 = Composer(\"Wolfgang Amadeus Mozart\", 1756, \"Austria\")"
   ]
  },
  {
   "cell_type": "code",
   "execution_count": 5,
   "metadata": {},
   "outputs": [
    {
     "data": {
      "text/plain": [
       "2"
      ]
     },
     "execution_count": 5,
     "metadata": {},
     "output_type": "execute_result"
    }
   ],
   "source": [
    "Composer.count"
   ]
  },
  {
   "cell_type": "code",
   "execution_count": null,
   "metadata": {},
   "outputs": [],
   "source": []
  }
 ],
 "metadata": {
  "kernelspec": {
   "display_name": "Python 3",
   "language": "python",
   "name": "python3"
  },
  "language_info": {
   "codemirror_mode": {
    "name": "ipython",
    "version": 3
   },
   "file_extension": ".py",
   "mimetype": "text/x-python",
   "name": "python",
   "nbconvert_exporter": "python",
   "pygments_lexer": "ipython3",
   "version": "3.7.4"
  }
 },
 "nbformat": 4,
 "nbformat_minor": 2
}
