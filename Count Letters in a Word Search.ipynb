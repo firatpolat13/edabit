{
 "cells": [
  {
   "cell_type": "markdown",
   "metadata": {},
   "source": [
    "Create a function that counts the number of times a particular letter shows up in the word search.\n",
    "Examples\n",
    "\n",
    "letter_counter([\n",
    "  [\"D\", \"E\", \"Y\", \"H\", \"A\", \"D\"],\n",
    "  [\"C\", \"B\", \"Z\", \"Y\", \"J\", \"K\"],\n",
    "  [\"D\", \"B\", \"C\", \"A\", \"M\", \"N\"],\n",
    "  [\"F\", \"G\", \"G\", \"R\", \"S\", \"R\"],\n",
    "  [\"V\", \"X\", \"H\", \"A\", \"S\", \"S\"]\n",
    "], \"D\") ➞ 3\n",
    "\n",
    "\n",
    "\"D\" shows up 3 times: twice in the first row, once in the third row.\n",
    "\n",
    "letter_counter([\n",
    "  [\"D\", \"E\", \"Y\", \"H\", \"A\", \"D\"],\n",
    "  [\"C\", \"B\", \"Z\", \"Y\", \"J\", \"K\"],\n",
    "  [\"D\", \"B\", \"C\", \"A\", \"M\", \"N\"],\n",
    "  [\"F\", \"G\", \"G\", \"R\", \"S\", \"R\"],\n",
    "  [\"V\", \"X\", \"H\", \"A\", \"S\", \"S\"]\n",
    "], \"H\") ➞ 2\n",
    "\n",
    "Notes\n",
    "\n",
    "You will always be given a list with five sub-lists."
   ]
  },
  {
   "cell_type": "code",
   "execution_count": 1,
   "metadata": {},
   "outputs": [],
   "source": [
    "def letter_counter(lst, letter):\n",
    "    count = 0\n",
    "    for i in range(len(lst)):\n",
    "        count += lst[i].count(letter)\n",
    "    return count"
   ]
  },
  {
   "cell_type": "code",
   "execution_count": 2,
   "metadata": {},
   "outputs": [
    {
     "name": "stdout",
     "output_type": "stream",
     "text": [
      "Wall time: 0 ns\n"
     ]
    },
    {
     "data": {
      "text/plain": [
       "3"
      ]
     },
     "execution_count": 2,
     "metadata": {},
     "output_type": "execute_result"
    }
   ],
   "source": [
    "%%time\n",
    "letter_counter([\n",
    "  [\"D\", \"E\", \"Y\", \"H\", \"A\", \"D\"],\n",
    "  [\"C\", \"B\", \"Z\", \"Y\", \"J\", \"K\"],\n",
    "  [\"D\", \"B\", \"C\", \"A\", \"M\", \"N\"],\n",
    "  [\"F\", \"G\", \"G\", \"R\", \"S\", \"R\"],\n",
    "  [\"V\", \"X\", \"H\", \"A\", \"S\", \"S\"]\n",
    "], \"D\")"
   ]
  },
  {
   "cell_type": "code",
   "execution_count": null,
   "metadata": {},
   "outputs": [],
   "source": []
  }
 ],
 "metadata": {
  "kernelspec": {
   "display_name": "Python 3",
   "language": "python",
   "name": "python3"
  },
  "language_info": {
   "codemirror_mode": {
    "name": "ipython",
    "version": 3
   },
   "file_extension": ".py",
   "mimetype": "text/x-python",
   "name": "python",
   "nbconvert_exporter": "python",
   "pygments_lexer": "ipython3",
   "version": "3.7.4"
  }
 },
 "nbformat": 4,
 "nbformat_minor": 2
}
