{
 "cells": [
  {
   "cell_type": "markdown",
   "metadata": {},
   "source": [
    "Given an int, figure out how many ones, threes and nines you could fit into the number. You must create a class. You will make variables(self.ones, self.threes, self.nines) to do this.\n",
    "Examples\n",
    "\n",
    "n1 = ones_threes_nines(5)\n",
    "n1.nines ➞ 0\n",
    "\n",
    "n1.ones ➞ 5\n",
    "\n",
    "n1.threes ➞ 1\n",
    "\n",
    "Notes\n",
    "\n",
    "    Do not use the math module.\n",
    "    No need to create objects of the class.\n",
    "    See version #2 of this series"
   ]
  },
  {
   "cell_type": "code",
   "execution_count": 1,
   "metadata": {},
   "outputs": [],
   "source": [
    "class ones_threes_nines:\n",
    "    \n",
    "    def __init__(self, number, ones=1, threes=1, nines=1):\n",
    "        self.number = number\n",
    "        self.ones = number // 1\n",
    "        self.threes = number // 3\n",
    "        self.nines = number // 9"
   ]
  },
  {
   "cell_type": "code",
   "execution_count": 2,
   "metadata": {},
   "outputs": [
    {
     "data": {
      "text/plain": [
       "0"
      ]
     },
     "execution_count": 2,
     "metadata": {},
     "output_type": "execute_result"
    }
   ],
   "source": [
    "n1 = ones_threes_nines(8)\n",
    "n1.nines"
   ]
  },
  {
   "cell_type": "code",
   "execution_count": null,
   "metadata": {},
   "outputs": [],
   "source": []
  }
 ],
 "metadata": {
  "kernelspec": {
   "display_name": "Python 3",
   "language": "python",
   "name": "python3"
  },
  "language_info": {
   "codemirror_mode": {
    "name": "ipython",
    "version": 3
   },
   "file_extension": ".py",
   "mimetype": "text/x-python",
   "name": "python",
   "nbconvert_exporter": "python",
   "pygments_lexer": "ipython3",
   "version": "3.7.4"
  }
 },
 "nbformat": 4,
 "nbformat_minor": 2
}
