{
 "cells": [
  {
   "cell_type": "markdown",
   "metadata": {},
   "source": [
    "Create a function that takes a 2D array as an argument and returns the number of people whose view is blocked by a tall person. The concert stage is pointed towards the top of the 2D array and the tall person (represented by a 2) blocks the view of all the people (represented by a 1) behind them.\n",
    "Examples\n",
    "\n",
    "block([\n",
    "  [1, 1, 1, 1, 1],\n",
    "  [1, 1, 1, 1, 1],\n",
    "  [1, 1, 1, 1, 2],\n",
    "  [1, 1, 1, 1, 1],\n",
    "  [1, 1, 1, 1, 1]\n",
    "]) ➞ 2\n",
    "\n",
    " The tall person blocks 2 people behind him thus\n",
    " the function returns 2.\n",
    "\n",
    "\n",
    "block([\n",
    "  [1, 2, 1, 1],\n",
    "  [1, 1, 1, 2],\n",
    "  [1, 1, 1, 1],\n",
    "  [1, 1, 1, 1],\n",
    "]) ➞ 5\n",
    "\n",
    "#There are 2 tall people that block everyone behind\n",
    " them. The first tall person in the first row blocks 3\n",
    " people behind him while the second tall person in\n",
    " the second row blocks 2 people behind him thus the\n",
    " function returns 5.\n",
    "\n",
    "\n",
    "block([\n",
    "  [1, 1, 1, 1],\n",
    "  [2, 1, 1, 2],\n",
    "  [1, 1, 1, 1],\n",
    "  [1, 1, 1, 1],\n",
    "]) ➞ 4"
   ]
  },
  {
   "cell_type": "code",
   "execution_count": 7,
   "metadata": {},
   "outputs": [],
   "source": [
    "def block(lst):\n",
    "    count = 0\n",
    "    for i in range(len(lst)):\n",
    "        for k in range(len(lst[i])):\n",
    "            if lst[i][k] == 2:\n",
    "                count = count + (len(lst)-i-1)\n",
    "    return count"
   ]
  },
  {
   "cell_type": "code",
   "execution_count": 8,
   "metadata": {},
   "outputs": [
    {
     "data": {
      "text/plain": [
       "2"
      ]
     },
     "execution_count": 8,
     "metadata": {},
     "output_type": "execute_result"
    }
   ],
   "source": [
    "block([\n",
    "  [1, 1, 1, 1, 1], \n",
    "  [1, 1, 1, 1, 1], \n",
    "  [1, 1, 1, 1, 2], \n",
    "  [1, 1, 1, 1, 1], \n",
    "  [1, 1, 1, 1, 1]])"
   ]
  },
  {
   "cell_type": "code",
   "execution_count": 9,
   "metadata": {},
   "outputs": [
    {
     "data": {
      "text/plain": [
       "4"
      ]
     },
     "execution_count": 9,
     "metadata": {},
     "output_type": "execute_result"
    }
   ],
   "source": [
    "block([\n",
    "  [1, 1, 1, 1],\n",
    "  [2, 1, 1, 2],\n",
    "  [1, 1, 1, 1],\n",
    "  [1, 1, 1, 1],\n",
    "])"
   ]
  },
  {
   "cell_type": "code",
   "execution_count": 10,
   "metadata": {},
   "outputs": [
    {
     "data": {
      "text/plain": [
       "5"
      ]
     },
     "execution_count": 10,
     "metadata": {},
     "output_type": "execute_result"
    }
   ],
   "source": [
    "block([\n",
    "  [1, 2, 1, 1], \n",
    "  [1, 1, 1, 2], \n",
    "  [1, 1, 1, 1], \n",
    "  [1, 1, 1, 1], \n",
    "])"
   ]
  },
  {
   "cell_type": "code",
   "execution_count": null,
   "metadata": {},
   "outputs": [],
   "source": []
  }
 ],
 "metadata": {
  "kernelspec": {
   "display_name": "Python 3",
   "language": "python",
   "name": "python3"
  },
  "language_info": {
   "codemirror_mode": {
    "name": "ipython",
    "version": 3
   },
   "file_extension": ".py",
   "mimetype": "text/x-python",
   "name": "python",
   "nbconvert_exporter": "python",
   "pygments_lexer": "ipython3",
   "version": "3.7.4"
  }
 },
 "nbformat": 4,
 "nbformat_minor": 2
}
