{
 "cells": [
  {
   "cell_type": "markdown",
   "metadata": {},
   "source": [
    "Write a function that recursively returns the number of vowels in a string.\n",
    "\n",
    "If it wasn't clear enough already, you should use recursion in your solution.\n",
    "Examples\n",
    "\n",
    "vowels(\"apple\") ➞ 2\n",
    "\n",
    "vowels(\"cheesecake\") ➞ 5\n",
    "\n",
    "vowels(\"bbb\") ➞ 0\n",
    "\n",
    "vowels(\"\") ➞ 0"
   ]
  },
  {
   "cell_type": "code",
   "execution_count": 1,
   "metadata": {},
   "outputs": [],
   "source": [
    "def vowels(string):\n",
    "    total = 0\n",
    "    string_lower = string.lower()\n",
    "    for i in range(len(string)):\n",
    "        if string_lower[i] in \"aeiou\":\n",
    "            total += 1\n",
    "    return total"
   ]
  },
  {
   "cell_type": "code",
   "execution_count": 2,
   "metadata": {},
   "outputs": [
    {
     "data": {
      "text/plain": [
       "3"
      ]
     },
     "execution_count": 2,
     "metadata": {},
     "output_type": "execute_result"
    }
   ],
   "source": [
    "vowels(\"AAABB\")"
   ]
  },
  {
   "cell_type": "code",
   "execution_count": null,
   "metadata": {},
   "outputs": [],
   "source": []
  }
 ],
 "metadata": {
  "kernelspec": {
   "display_name": "Python 3",
   "language": "python",
   "name": "python3"
  },
  "language_info": {
   "codemirror_mode": {
    "name": "ipython",
    "version": 3
   },
   "file_extension": ".py",
   "mimetype": "text/x-python",
   "name": "python",
   "nbconvert_exporter": "python",
   "pygments_lexer": "ipython3",
   "version": "3.7.4"
  }
 },
 "nbformat": 4,
 "nbformat_minor": 2
}
