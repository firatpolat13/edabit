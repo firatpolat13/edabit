{
 "cells": [
  {
   "cell_type": "markdown",
   "metadata": {},
   "source": [
    "Create a function that returns the sum of the digits formed from the first and last digits, all the way to the center of the number.\n",
    "Worked Example\n",
    "\n",
    "closing_in_sum(2520) ➞ 72\n",
    "\n",
    "# The first and last digits are 2 and 0.\n",
    "# 2 and 0 form 20.\n",
    "# The second and second to last digits are 5 and 2.\n",
    "# 5 and 2 form 52.\n",
    "\n",
    "# 20 + 52 = 72\n",
    "\n",
    "Examples\n",
    "\n",
    "closing_in_sum(121) ➞ 13\n",
    "# 11 + 2\n",
    "\n",
    "closing_in_sum(1039) ➞ 22\n",
    "# 19 + 3\n",
    "\n",
    "closing_in_sum(22225555) ➞ 100\n",
    "# 25 + 25 + 25 + 25\n",
    "\n",
    "Notes\n",
    "\n",
    "    If the number has an odd number of digits, simply add on the single-digit number in the center (see example #1).\n",
    "    Any number which is zero-padded counts as a single digit (see example #2)."
   ]
  },
  {
   "cell_type": "code",
   "execution_count": 1,
   "metadata": {},
   "outputs": [],
   "source": [
    "def closing_in_sum(n):\n",
    "    total1 = 0\n",
    "    if len(str(n)) % 2 == 0:\n",
    "        divider = len(str(n)) // 2\n",
    "        for i in range(divider):\n",
    "            first = str(n)[i]\n",
    "            second = str(n)[len(str(n))-1-i]\n",
    "            total1 += int(first + second)\n",
    "            total = total1\n",
    "    else:\n",
    "        divider = len(str(n)) // 2\n",
    "        for i in range(divider):\n",
    "            first = str(n)[i]\n",
    "            second = str(n)[len(str(n))-1-i]\n",
    "            total1 += int(first + second)\n",
    "            total = total1 + int(str(n)[divider])\n",
    "    return total"
   ]
  },
  {
   "cell_type": "code",
   "execution_count": 2,
   "metadata": {},
   "outputs": [
    {
     "data": {
      "text/plain": [
       "37"
      ]
     },
     "execution_count": 2,
     "metadata": {},
     "output_type": "execute_result"
    }
   ],
   "source": [
    "closing_in_sum(1234)"
   ]
  },
  {
   "cell_type": "code",
   "execution_count": 3,
   "metadata": {},
   "outputs": [
    {
     "data": {
      "text/plain": [
       "42"
      ]
     },
     "execution_count": 3,
     "metadata": {},
     "output_type": "execute_result"
    }
   ],
   "source": [
    "closing_in_sum(12345)"
   ]
  },
  {
   "cell_type": "code",
   "execution_count": null,
   "metadata": {},
   "outputs": [],
   "source": []
  }
 ],
 "metadata": {
  "kernelspec": {
   "display_name": "Python 3",
   "language": "python",
   "name": "python3"
  },
  "language_info": {
   "codemirror_mode": {
    "name": "ipython",
    "version": 3
   },
   "file_extension": ".py",
   "mimetype": "text/x-python",
   "name": "python",
   "nbconvert_exporter": "python",
   "pygments_lexer": "ipython3",
   "version": "3.7.4"
  }
 },
 "nbformat": 4,
 "nbformat_minor": 2
}
