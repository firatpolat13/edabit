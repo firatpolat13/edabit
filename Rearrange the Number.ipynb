{
 "cells": [
  {
   "cell_type": "markdown",
   "metadata": {},
   "source": [
    "Given a number, return the difference between the maximum and minimum numbers that can be formed when the digits are rearranged.\n",
    "Examples\n",
    "\n",
    "rearranged_difference(972882) ➞ 760833\n",
    " 988722 - 227889 = 760833\n",
    "\n",
    "rearranged_difference(3320707) ➞ 7709823\n",
    " 7733200 - 23377 = 7709823\n",
    "\n",
    "rearranged_difference(90010) ➞ 90981\n",
    " 91000 - 19 = 90981\n",
    "\n",
    "Notes\n",
    "\n",
    "N/A"
   ]
  },
  {
   "cell_type": "code",
   "execution_count": 1,
   "metadata": {},
   "outputs": [],
   "source": [
    "def rearranged_difference(num):\n",
    "    max_number = []\n",
    "    min_number = []\n",
    "    total_max = 0\n",
    "    total_min = 0\n",
    "    for i in range(len(str(num))):\n",
    "        max_number.append(int(str(num)[i]))\n",
    "        min_number.append(int(str(num)[i]))\n",
    "    for i in range(len(max_number)):\n",
    "        total_max += max(max_number) * 10 ** (len(max_number)-1)\n",
    "        max_number.remove(max(max_number))\n",
    "    for i in range(len(min_number)):\n",
    "        total_min += min(min_number) * 10 ** (len(min_number)-1)\n",
    "        min_number.remove(min(min_number))\n",
    "    return total_max - total_min"
   ]
  },
  {
   "cell_type": "code",
   "execution_count": 2,
   "metadata": {},
   "outputs": [
    {
     "data": {
      "text/plain": [
       "760833"
      ]
     },
     "execution_count": 2,
     "metadata": {},
     "output_type": "execute_result"
    }
   ],
   "source": [
    "rearranged_difference(972882)"
   ]
  },
  {
   "cell_type": "code",
   "execution_count": 3,
   "metadata": {},
   "outputs": [
    {
     "data": {
      "text/plain": [
       "90981"
      ]
     },
     "execution_count": 3,
     "metadata": {},
     "output_type": "execute_result"
    }
   ],
   "source": [
    "rearranged_difference(90010)"
   ]
  },
  {
   "cell_type": "code",
   "execution_count": null,
   "metadata": {},
   "outputs": [],
   "source": [
    "def rearranged_difference(num):\n",
    "    digs1 = [int(ch) for ch in str(num)]\n",
    "    digs2  =digs1[:]\n",
    "    digs1.sort()\n",
    "    digs2.sort(reverse = True)\n",
    "    s1 = [str(n) for n in digs1]\n",
    "    s2 = [str(m) for m in digs2]\n",
    "    st1 = ''.join(s1)\n",
    "    st2 = ''.join(s2)\n",
    "    return int(st2) - int(st1)"
   ]
  }
 ],
 "metadata": {
  "kernelspec": {
   "display_name": "Python 3",
   "language": "python",
   "name": "python3"
  },
  "language_info": {
   "codemirror_mode": {
    "name": "ipython",
    "version": 3
   },
   "file_extension": ".py",
   "mimetype": "text/x-python",
   "name": "python",
   "nbconvert_exporter": "python",
   "pygments_lexer": "ipython3",
   "version": "3.7.4"
  }
 },
 "nbformat": 4,
 "nbformat_minor": 2
}
