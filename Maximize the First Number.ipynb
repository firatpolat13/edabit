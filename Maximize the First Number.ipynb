{
 "cells": [
  {
   "cell_type": "markdown",
   "metadata": {},
   "source": [
    "Write a function that makes the first number as large as possible by swapping out its digits for digits in the second number.\n",
    "\n",
    "To illustrate:\n",
    "\n",
    "max_possible(9328, 456) ➞ 9658\n",
    "#9658 is the largest possible number built from swaps from 456.\n",
    " 3 replaced with 6 and 2 replaced with 5.\n",
    "\n",
    "Examples\n",
    "\n",
    "max_possible(523, 76) ➞ 763\n",
    "\n",
    "max_possible(9132, 5564) ➞ 9655\n",
    "\n",
    "max_possible(8732, 91255) ➞ 9755\n",
    "\n",
    "Notes\n",
    "\n",
    "    Each digit in the second number can only be used once.\n",
    "    Zero to all digits in the second number may be used."
   ]
  },
  {
   "cell_type": "code",
   "execution_count": 1,
   "metadata": {},
   "outputs": [],
   "source": [
    "def max_possible(n1, n2):\n",
    "    s1, s2 = str(n1), str(n2)\n",
    "    list1 = []\n",
    "    list2 =[]\n",
    "    for i in range(len(s1)):\n",
    "        list1.append(s1[i])\n",
    "    for i in range(len(s2)):\n",
    "        list2.append(s2[i])\n",
    "    s3 = \"\"\n",
    "    if len(list2) >= len(list1):\n",
    "        for i in range(len(s1)):\n",
    "            if list1[i] >= max(list2):\n",
    "                s3 += list1[i]\n",
    "            else:\n",
    "                s3 += max(list2)\n",
    "                list2.remove(max(list2))\n",
    "    else:\n",
    "        for i in range(len(s1)):\n",
    "            if len(list2) > 0:\n",
    "                if list1[i] >= max(list2):\n",
    "                    s3 += list1[i]\n",
    "                else:\n",
    "                    s3 += max(list2)\n",
    "                    list2.remove(max(list2))\n",
    "                    \n",
    "            else:\n",
    "                s3 = s3 + s1[i:len(s1)] \n",
    "    return int(s3[:len(s1)])"
   ]
  },
  {
   "cell_type": "code",
   "execution_count": 2,
   "metadata": {},
   "outputs": [
    {
     "data": {
      "text/plain": [
       "9658"
      ]
     },
     "execution_count": 2,
     "metadata": {},
     "output_type": "execute_result"
    }
   ],
   "source": [
    "max_possible(9328, 456)"
   ]
  },
  {
   "cell_type": "code",
   "execution_count": 3,
   "metadata": {},
   "outputs": [
    {
     "data": {
      "text/plain": [
       "763"
      ]
     },
     "execution_count": 3,
     "metadata": {},
     "output_type": "execute_result"
    }
   ],
   "source": [
    "max_possible(523, 76)"
   ]
  },
  {
   "cell_type": "code",
   "execution_count": 4,
   "metadata": {},
   "outputs": [
    {
     "data": {
      "text/plain": [
       "42345"
      ]
     },
     "execution_count": 4,
     "metadata": {},
     "output_type": "execute_result"
    }
   ],
   "source": [
    "max_possible(12345, 4)"
   ]
  },
  {
   "cell_type": "code",
   "execution_count": 5,
   "metadata": {},
   "outputs": [
    {
     "data": {
      "text/plain": [
       "789"
      ]
     },
     "execution_count": 5,
     "metadata": {},
     "output_type": "execute_result"
    }
   ],
   "source": [
    "max_possible(589, 777)"
   ]
  },
  {
   "cell_type": "code",
   "execution_count": 6,
   "metadata": {},
   "outputs": [
    {
     "data": {
      "text/plain": [
       "9655"
      ]
     },
     "execution_count": 6,
     "metadata": {},
     "output_type": "execute_result"
    }
   ],
   "source": [
    "max_possible(9132, 5564)"
   ]
  },
  {
   "cell_type": "code",
   "execution_count": 7,
   "metadata": {},
   "outputs": [
    {
     "data": {
      "text/plain": [
       "9655"
      ]
     },
     "execution_count": 7,
     "metadata": {},
     "output_type": "execute_result"
    }
   ],
   "source": [
    "max_possible(9132, 5564)"
   ]
  },
  {
   "cell_type": "code",
   "execution_count": 8,
   "metadata": {},
   "outputs": [
    {
     "data": {
      "text/plain": [
       "9755"
      ]
     },
     "execution_count": 8,
     "metadata": {},
     "output_type": "execute_result"
    }
   ],
   "source": [
    "max_possible(8732, 91255)"
   ]
  },
  {
   "cell_type": "code",
   "execution_count": 9,
   "metadata": {},
   "outputs": [
    {
     "data": {
      "text/plain": [
       "9755"
      ]
     },
     "execution_count": 9,
     "metadata": {},
     "output_type": "execute_result"
    }
   ],
   "source": [
    "max_possible(8732, 91255)"
   ]
  },
  {
   "cell_type": "code",
   "execution_count": 10,
   "metadata": {},
   "outputs": [
    {
     "data": {
      "text/plain": [
       "1"
      ]
     },
     "execution_count": 10,
     "metadata": {},
     "output_type": "execute_result"
    }
   ],
   "source": [
    "max_possible(1, 0)"
   ]
  },
  {
   "cell_type": "code",
   "execution_count": 11,
   "metadata": {},
   "outputs": [
    {
     "data": {
      "text/plain": [
       "9"
      ]
     },
     "execution_count": 11,
     "metadata": {},
     "output_type": "execute_result"
    }
   ],
   "source": [
    "max_possible(8, 9)"
   ]
  },
  {
   "cell_type": "code",
   "execution_count": 12,
   "metadata": {},
   "outputs": [
    {
     "data": {
      "text/plain": [
       "9655"
      ]
     },
     "execution_count": 12,
     "metadata": {},
     "output_type": "execute_result"
    }
   ],
   "source": [
    "max_possible(9132, 5564)"
   ]
  },
  {
   "cell_type": "code",
   "execution_count": 13,
   "metadata": {},
   "outputs": [
    {
     "data": {
      "text/plain": [
       "98"
      ]
     },
     "execution_count": 13,
     "metadata": {},
     "output_type": "execute_result"
    }
   ],
   "source": [
    "max_possible(28, 19)"
   ]
  },
  {
   "cell_type": "code",
   "execution_count": 14,
   "metadata": {},
   "outputs": [],
   "source": [
    "def max_possible(n1, n2):\n",
    "  n1,n2 = list(str(n1)), sorted(list(str(n2)))\n",
    "  for i in range(len(n1)):\n",
    "    if n2 and n1[i]<n2[-1]:\n",
    "      n1[i] = n2.pop()\n",
    "  return int(''.join(n1))"
   ]
  },
  {
   "cell_type": "code",
   "execution_count": null,
   "metadata": {},
   "outputs": [],
   "source": []
  },
  {
   "cell_type": "code",
   "execution_count": null,
   "metadata": {},
   "outputs": [],
   "source": []
  }
 ],
 "metadata": {
  "kernelspec": {
   "display_name": "Python 3",
   "language": "python",
   "name": "python3"
  },
  "language_info": {
   "codemirror_mode": {
    "name": "ipython",
    "version": 3
   },
   "file_extension": ".py",
   "mimetype": "text/x-python",
   "name": "python",
   "nbconvert_exporter": "python",
   "pygments_lexer": "ipython3",
   "version": "3.7.4"
  }
 },
 "nbformat": 4,
 "nbformat_minor": 2
}
