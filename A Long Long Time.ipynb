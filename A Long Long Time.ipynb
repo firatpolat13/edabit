{
 "cells": [
  {
   "cell_type": "markdown",
   "metadata": {},
   "source": [
    "Create a function that takes three values:\n",
    "\n",
    "    h hours\n",
    "    m minutes\n",
    "    s seconds\n",
    "\n",
    "Return the value that's the longest duration.\n",
    "Examples\n",
    "\n",
    "longest_time(1, 59, 3598) ➞ 1\n",
    "\n",
    "longest_time(2, 300, 15000) ➞ 300\n",
    "\n",
    "longest_time(15, 955, 59400) ➞ 59400\n",
    "\n",
    "Notes\n",
    "\n",
    "No two durations will be the same."
   ]
  },
  {
   "cell_type": "code",
   "execution_count": 1,
   "metadata": {},
   "outputs": [],
   "source": [
    "def longest_time(h, m, s):\n",
    "    time = [h*3600,m*60,s]\n",
    "    return [h,m,s][time.index(max(time))]"
   ]
  },
  {
   "cell_type": "code",
   "execution_count": 2,
   "metadata": {},
   "outputs": [
    {
     "data": {
      "text/plain": [
       "200"
      ]
     },
     "execution_count": 2,
     "metadata": {},
     "output_type": "execute_result"
    }
   ],
   "source": [
    "longest_time(1,200,2)"
   ]
  },
  {
   "cell_type": "code",
   "execution_count": null,
   "metadata": {},
   "outputs": [],
   "source": []
  }
 ],
 "metadata": {
  "kernelspec": {
   "display_name": "Python 3",
   "language": "python",
   "name": "python3"
  },
  "language_info": {
   "codemirror_mode": {
    "name": "ipython",
    "version": 3
   },
   "file_extension": ".py",
   "mimetype": "text/x-python",
   "name": "python",
   "nbconvert_exporter": "python",
   "pygments_lexer": "ipython3",
   "version": "3.6.5"
  }
 },
 "nbformat": 4,
 "nbformat_minor": 2
}
