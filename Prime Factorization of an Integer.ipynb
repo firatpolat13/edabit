{
 "cells": [
  {
   "cell_type": "markdown",
   "metadata": {},
   "source": [
    "Create a function that returns a list containing the prime factors of whatever integer is passed to it.\n",
    "Examples\n",
    "\n",
    "prime_factors(20) ➞ [2, 2, 5]\n",
    "\n",
    "prime_factors(100) ➞ [2, 2, 5, 5]\n",
    "\n",
    "prime_factors(8912234) ➞ [2, 47, 94811]\n",
    "\n",
    "Notes\n",
    "\n",
    "    Implement your solution using trial division.\n",
    "    Your solution should not require recursion."
   ]
  },
  {
   "cell_type": "code",
   "execution_count": 1,
   "metadata": {},
   "outputs": [],
   "source": [
    "def prime_factors(n):\n",
    "    lst = []\n",
    "    i = 2\n",
    "    while i < n: \n",
    "        if n % i == 0:\n",
    "            lst.append(i)\n",
    "            n = n / i\n",
    "        else:\n",
    "            i += 1\n",
    "    lst.append(int(n))\n",
    "    return lst"
   ]
  },
  {
   "cell_type": "code",
   "execution_count": 2,
   "metadata": {},
   "outputs": [
    {
     "data": {
      "text/plain": [
       "[3, 3]"
      ]
     },
     "execution_count": 2,
     "metadata": {},
     "output_type": "execute_result"
    }
   ],
   "source": [
    "prime_factors(9)"
   ]
  },
  {
   "cell_type": "code",
   "execution_count": 3,
   "metadata": {},
   "outputs": [
    {
     "data": {
      "text/plain": [
       "[2, 47, 94811]"
      ]
     },
     "execution_count": 3,
     "metadata": {},
     "output_type": "execute_result"
    }
   ],
   "source": [
    "prime_factors(8912234)"
   ]
  },
  {
   "cell_type": "code",
   "execution_count": 4,
   "metadata": {},
   "outputs": [
    {
     "data": {
      "text/plain": [
       "[2, 2, 5, 5]"
      ]
     },
     "execution_count": 4,
     "metadata": {},
     "output_type": "execute_result"
    }
   ],
   "source": [
    "prime_factors(100)"
   ]
  }
 ],
 "metadata": {
  "kernelspec": {
   "display_name": "Python 3",
   "language": "python",
   "name": "python3"
  },
  "language_info": {
   "codemirror_mode": {
    "name": "ipython",
    "version": 3
   },
   "file_extension": ".py",
   "mimetype": "text/x-python",
   "name": "python",
   "nbconvert_exporter": "python",
   "pygments_lexer": "ipython3",
   "version": "3.7.4"
  }
 },
 "nbformat": 4,
 "nbformat_minor": 2
}
