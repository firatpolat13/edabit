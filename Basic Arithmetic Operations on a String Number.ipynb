{
 "cells": [
  {
   "cell_type": "markdown",
   "metadata": {},
   "source": [
    "Create a function to perform basic arithmetic operations that includes addition, subtraction, multiplication and division on a string number (e.g. \"12 + 24\" or \"23 - 21\" or \"12 // 12\" or \"12 * 21\").\n",
    "\n",
    "Here, we have 1 followed by a space, operator followed by another space and 2. For the challenge, we are going to have only two numbers between 1 valid operator. The return value should be a number.\n",
    "\n",
    "eval() is not allowed. In case of division, whenever the second number equals \"0\" return -1.\n",
    "\n",
    "For example:\n",
    "\n",
    "\"15 // 0\"  ➞ -1\n",
    "\n",
    "Examples\n",
    "\n",
    "arithmetic_operation(\"12 + 12\") ➞ 24 // 12 + 12 = 24\n",
    "\n",
    "arithmetic_operation(\"12 - 12\") ➞ 24 // 12 - 12 = 0\n",
    "\n",
    "arithmetic_operation(\"12 * 12\") ➞ 144 // 12 * 12 = 144\n",
    "\n",
    "arithmetic_operation(\"12 // 0\") ➞ -1 // 12 / 0 = -1\n",
    "\n",
    "Notes\n",
    "\n",
    "    All the inputs are only integers.\n",
    "    The operators are * - + and //.\n",
    "    Hint: Think about the single space that appears before and after the arithmetic operator."
   ]
  },
  {
   "cell_type": "code",
   "execution_count": 1,
   "metadata": {},
   "outputs": [],
   "source": [
    "def arithmetic_operation(string):\n",
    "\n",
    "    if \"+\" in string:\n",
    "        operator_index = string.index(\"+\")\n",
    "        return int(string[:operator_index]) + int(string[operator_index+1:]) \n",
    "    elif \"-\" in string:\n",
    "        operator_index = string.index(\"-\")\n",
    "        return int(string[:operator_index]) - int(string[operator_index+1:])\n",
    "    elif \"*\" in string:\n",
    "        operator_index = string.index(\"*\")\n",
    "        return int(string[:operator_index]) * int(string[operator_index+1:])\n",
    "    elif \"//\" in string:\n",
    "        operator_index = string.index(\"/\")\n",
    "        if int(string[operator_index+2:]) == 0:\n",
    "            return -1\n",
    "        else:\n",
    "            return int(string[:operator_index]) // int(string[operator_index+2:])"
   ]
  },
  {
   "cell_type": "code",
   "execution_count": null,
   "metadata": {},
   "outputs": [],
   "source": []
  }
 ],
 "metadata": {
  "kernelspec": {
   "display_name": "Python 3",
   "language": "python",
   "name": "python3"
  },
  "language_info": {
   "codemirror_mode": {
    "name": "ipython",
    "version": 3
   },
   "file_extension": ".py",
   "mimetype": "text/x-python",
   "name": "python",
   "nbconvert_exporter": "python",
   "pygments_lexer": "ipython3",
   "version": "3.7.4"
  }
 },
 "nbformat": 4,
 "nbformat_minor": 2
}
