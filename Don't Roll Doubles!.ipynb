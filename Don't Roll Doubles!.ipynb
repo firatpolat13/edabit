{
 "cells": [
  {
   "cell_type": "markdown",
   "metadata": {},
   "source": [
    "John is playing a dice game. The rules are as follows.\n",
    "\n",
    "    Roll two dice.\n",
    "    Add the numbers on the dice together.\n",
    "    Add the total to your overall score.\n",
    "    Repeat this for three rounds.\n",
    "\n",
    "But if you roll DOUBLES, your score is instantly wiped to 0 and your game ends immediately!\n",
    "\n",
    "Create a function that takes in a list of tuples as input, and return John's score after his game has ended.\n",
    "Examples\n",
    "\n",
    "dice_game([(1, 2), (3, 4), (5, 6)]) ➞ 21\n",
    "\n",
    "dice_game([(1, 1), (5, 6), (6, 4)]) ➞ 0\n",
    "\n",
    "dice_game([(4, 5), (4, 5), (4, 5)]) ➞ 27\n",
    "\n",
    "Notes\n",
    "\n",
    "    Ignore all other tuples in the list if a throw happens to be doubles and go straight to returning 0.\n",
    "    John only has two dice and will always give you outcomes for three rounds."
   ]
  },
  {
   "cell_type": "code",
   "execution_count": 1,
   "metadata": {},
   "outputs": [],
   "source": [
    "def dice_game(lst):\n",
    "    total = 0\n",
    "    for i in range(len(lst)):\n",
    "        if lst[i][0] == lst[i][1]:\n",
    "            return 0\n",
    "        else:\n",
    "            total += lst[i][0] + lst[i][1]\n",
    "    return total"
   ]
  },
  {
   "cell_type": "code",
   "execution_count": 2,
   "metadata": {},
   "outputs": [
    {
     "data": {
      "text/plain": [
       "0"
      ]
     },
     "execution_count": 2,
     "metadata": {},
     "output_type": "execute_result"
    }
   ],
   "source": [
    "dice_game([(1, 2), (3, 3), (5, 6)])"
   ]
  },
  {
   "cell_type": "code",
   "execution_count": 3,
   "metadata": {},
   "outputs": [
    {
     "data": {
      "text/plain": [
       "24"
      ]
     },
     "execution_count": 3,
     "metadata": {},
     "output_type": "execute_result"
    }
   ],
   "source": [
    "dice_game([(1, 2), (5, 6), (6, 4)])"
   ]
  },
  {
   "cell_type": "code",
   "execution_count": 4,
   "metadata": {},
   "outputs": [
    {
     "data": {
      "text/plain": [
       "27"
      ]
     },
     "execution_count": 4,
     "metadata": {},
     "output_type": "execute_result"
    }
   ],
   "source": [
    "dice_game([(4, 5), (4, 5), (4, 5)])"
   ]
  },
  {
   "cell_type": "code",
   "execution_count": null,
   "metadata": {},
   "outputs": [],
   "source": []
  }
 ],
 "metadata": {
  "kernelspec": {
   "display_name": "Python 3",
   "language": "python",
   "name": "python3"
  },
  "language_info": {
   "codemirror_mode": {
    "name": "ipython",
    "version": 3
   },
   "file_extension": ".py",
   "mimetype": "text/x-python",
   "name": "python",
   "nbconvert_exporter": "python",
   "pygments_lexer": "ipython3",
   "version": "3.7.4"
  }
 },
 "nbformat": 4,
 "nbformat_minor": 2
}
