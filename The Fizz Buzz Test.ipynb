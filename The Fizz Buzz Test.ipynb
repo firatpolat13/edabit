{
 "cells": [
  {
   "cell_type": "markdown",
   "metadata": {},
   "source": [
    "The Fizz Buzz test is a poplular interview question used to help filter out the 99.5% of programming job candidates who can't seem to program their way out of a wet paper bag.\n",
    "\n",
    "Write a program that returns a list of all the numbers from 1 to an interger argument. But for multiples of three use “Fizz” instead of the number and for the multiples of five use “Buzz”. For numbers which are multiples of both three and five use “FizzBuzz”.\n",
    "Example\n",
    "\n",
    "fizz_buzz(10) ➞ [1, 2, \"Fizz\", 4, \"Buzz\", \"Fizz\", 7, 8, \"Fizz\", \"Buzz\"]\n",
    "\n",
    "fizz_buzz(15) ➞ [1, 2, \"Fizz\", 4, \"Buzz\", \"Fizz\", 7, 8, \"Fizz\",\"Buzz\", 11, \"Fizz\", 13, 14, \"FizzBuzz\"]"
   ]
  },
  {
   "cell_type": "code",
   "execution_count": 1,
   "metadata": {},
   "outputs": [],
   "source": [
    "def fizz_buzz(maximum):\n",
    "    list1 = []\n",
    "    for i in range(1, maximum+1):\n",
    "        if i % 15 == 0:\n",
    "            list1.append(\"FizzBuzz\")\n",
    "        elif i % 3 == 0:\n",
    "            list1.append(\"Fizz\")\n",
    "        elif i % 5 == 0:\n",
    "            list1.append(\"Buzz\")\n",
    "        else:\n",
    "            list1.append(i)\n",
    "    return list1"
   ]
  },
  {
   "cell_type": "code",
   "execution_count": 2,
   "metadata": {},
   "outputs": [
    {
     "data": {
      "text/plain": [
       "[1,\n",
       " 2,\n",
       " 'Fizz',\n",
       " 4,\n",
       " 'Buzz',\n",
       " 'Fizz',\n",
       " 7,\n",
       " 8,\n",
       " 'Fizz',\n",
       " 'Buzz',\n",
       " 11,\n",
       " 'Fizz',\n",
       " 13,\n",
       " 14,\n",
       " 'FizzBuzz']"
      ]
     },
     "execution_count": 2,
     "metadata": {},
     "output_type": "execute_result"
    }
   ],
   "source": [
    "fizz_buzz(15)"
   ]
  },
  {
   "cell_type": "code",
   "execution_count": 3,
   "metadata": {},
   "outputs": [],
   "source": [
    "def fizz_buzz(n):\n",
    "    return [('Fizz'*(not i%3) + 'Buzz'*(not i%5)) or i for i in range(1, n+1)]"
   ]
  },
  {
   "cell_type": "code",
   "execution_count": null,
   "metadata": {},
   "outputs": [],
   "source": []
  }
 ],
 "metadata": {
  "kernelspec": {
   "display_name": "Python 3",
   "language": "python",
   "name": "python3"
  },
  "language_info": {
   "codemirror_mode": {
    "name": "ipython",
    "version": 3
   },
   "file_extension": ".py",
   "mimetype": "text/x-python",
   "name": "python",
   "nbconvert_exporter": "python",
   "pygments_lexer": "ipython3",
   "version": "3.7.4"
  }
 },
 "nbformat": 4,
 "nbformat_minor": 2
}
