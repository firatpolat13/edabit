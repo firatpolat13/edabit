{
 "cells": [
  {
   "cell_type": "markdown",
   "metadata": {},
   "source": [
    "Create a Person class which will have three properties:\n",
    "\n",
    "    Name\n",
    "    List of foods they like\n",
    "    List of foods they hate\n",
    "\n",
    "In this class, create the method taste():\n",
    "\n",
    "    It will take in a food name as a string\n",
    "    Return {person_name} eats the {food_name}\n",
    "    If the food is in the person's like list, add 'and loves it!' to the end\n",
    "    If it is in the person's hate list, add 'and hates it!' to the end\n",
    "    If it is in neither list, simply add an exclamation mark to the end\n",
    "\n",
    "Examples\n",
    "\n",
    "p1 = Person('Sam', ['ice cream'], ['carrots'])\n",
    "\n",
    "p1.taste('ice cream') ➞ 'Sam eats the ice cream and loves it!'\n",
    "\n",
    "p1.taste('cheese') ➞ 'Sam eats the cheese!'\n",
    "\n",
    "p1.taste('carrots') ➞ 'Sam eats the carrots and hates it!'"
   ]
  },
  {
   "cell_type": "code",
   "execution_count": 1,
   "metadata": {},
   "outputs": [
    {
     "data": {
      "text/plain": [
       "'Sam eats the ice cream and loves it!'"
      ]
     },
     "execution_count": 1,
     "metadata": {},
     "output_type": "execute_result"
    }
   ],
   "source": [
    "class Person:\n",
    "    def __init__(self, name, like, hate):\n",
    "        self.name = name\n",
    "        self.like = like\n",
    "        self.hate = hate\n",
    "    def taste(self, food):\n",
    "        if food in self.like:\n",
    "            return str(self.name) + \" eats the \" + str(food) + \" and loves it!\"\n",
    "        elif food in self.hate:\n",
    "            return str(self.name) + \" eats the \" + str(food) + \" and hates it!\"\n",
    "        else:\n",
    "            return str(self.name) + \" eats the \" + str(food) + \"!\"\n",
    "p1 = Person('Sam', ['ice cream'], ['carrots'])\n",
    "p1.taste('ice cream')"
   ]
  },
  {
   "cell_type": "code",
   "execution_count": null,
   "metadata": {},
   "outputs": [],
   "source": []
  }
 ],
 "metadata": {
  "kernelspec": {
   "display_name": "Python 3",
   "language": "python",
   "name": "python3"
  },
  "language_info": {
   "codemirror_mode": {
    "name": "ipython",
    "version": 3
   },
   "file_extension": ".py",
   "mimetype": "text/x-python",
   "name": "python",
   "nbconvert_exporter": "python",
   "pygments_lexer": "ipython3",
   "version": "3.7.4"
  }
 },
 "nbformat": 4,
 "nbformat_minor": 2
}
