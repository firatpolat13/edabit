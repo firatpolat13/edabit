{
 "cells": [
  {
   "cell_type": "markdown",
   "metadata": {},
   "source": [
    "Create a class Employee that will take a full name as argument, as well as a set of none, one or more keywords. Each instance should have a name and a lastname attributes plus one more attribute for each of the keywords, if any.\n",
    "Examples\n",
    "\n",
    "john = Employee('John Doe')\n",
    "mary = Employee('Mary Major', salary=120000)\n",
    "richard = Employee('Richard Roe', salary=110000, height=178)\n",
    "giancarlo = Employee('Giancarlo Rossi', salary=115000, height=182, nationality='Italian')\n",
    "\n",
    "john.name ➞ 'John'\n",
    "mary.lastname ➞ 'Major'\n",
    "richard.height ➞ 178\n",
    "giancarlo.nationality ➞ 'Italian'"
   ]
  },
  {
   "cell_type": "code",
   "execution_count": 1,
   "metadata": {},
   "outputs": [],
   "source": [
    "class Employee:\n",
    "    def __init__(self, fullname, **kwargs):\n",
    "        self.name = fullname.split()[0]\n",
    "        self.lastname = fullname.split()[1]\n",
    "        for x,y in kwargs.items():\n",
    "            setattr(self, x, y)"
   ]
  },
  {
   "cell_type": "code",
   "execution_count": null,
   "metadata": {},
   "outputs": [],
   "source": []
  }
 ],
 "metadata": {
  "kernelspec": {
   "display_name": "Python 3",
   "language": "python",
   "name": "python3"
  },
  "language_info": {
   "codemirror_mode": {
    "name": "ipython",
    "version": 3
   },
   "file_extension": ".py",
   "mimetype": "text/x-python",
   "name": "python",
   "nbconvert_exporter": "python",
   "pygments_lexer": "ipython3",
   "version": "3.7.4"
  }
 },
 "nbformat": 4,
 "nbformat_minor": 2
}
